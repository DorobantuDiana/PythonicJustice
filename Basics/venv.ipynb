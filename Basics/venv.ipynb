{
 "cells": [
  {
   "cell_type": "code",
   "execution_count": null,
   "metadata": {},
   "outputs": [],
   "source": [
    "            ### Virtual Environment ###\n",
    "\n",
    "# CREATE VENV\n",
    "python3 -m venv project_env\n",
    "# ! DON'T put files in venv directory\n",
    "\n",
    "# ACTIVATE VENV\n",
    "source project_env/bin/activate\n",
    "\n",
    "# DEACTIVATE VENV\n",
    "rm -rf project_env\n",
    "\n",
    "\n",
    "# Py Version\n",
    "which python3\n",
    "\n",
    "# Check System/Global Packages\n",
    "pip3 list \n",
    "\n",
    "# Packages Compresion\n",
    "pip freeze > requierements.txt\n",
    "cat requierements.txt\n",
    "\n",
    "# Install packages from a txt file to create\n",
    "# the venv on another machine\n",
    "pip install -r requierements.txt\n",
    "\n",
    "\n",
    "# Add Global Packages to the venv\n",
    "python3 -m venv project_env --system-site-Packages\n",
    "\n",
    "\n",
    "# Find packages installed on the venv \n",
    "# besides the system's\n",
    "pip list --local"
   ]
  }
 ],
 "metadata": {
  "language_info": {
   "name": "python"
  }
 },
 "nbformat": 4,
 "nbformat_minor": 2
}

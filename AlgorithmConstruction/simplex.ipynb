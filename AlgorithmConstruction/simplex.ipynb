{
 "cells": [
  {
   "attachments": {},
   "cell_type": "markdown",
   "metadata": {},
   "source": [
    "The simplex method requires an equational form of linear program representation:\n",
    "                        Maximize cᵀx subject to Ax=b, x≥0\n",
    "\n",
    "x is the vector of variables, A is a given m×n matrix, c∈ Rⁿ, b∈ Rᵐ are given vectors, and 0 is the zero vector, in this case with n components. All variables in the equational form have to satisfy the nonnegativity constraints."
   ]
  },
  {
   "attachments": {},
   "cell_type": "markdown",
   "metadata": {},
   "source": [
    "Ex 1.: Maximize the value x₁ + x₂ among all vector (x₁, x₂) ∈ R², satisfying the constraints:\n",
    "  x₁ ≥ 0\n",
    "  x₂ ≥ 0\n",
    "  4x₂ - x₁ ≤ 13\n",
    "  x₂ + 2x₁ ≤ 10"
   ]
  },
  {
   "cell_type": "code",
   "execution_count": 14,
   "metadata": {},
   "outputs": [],
   "source": [
    "from scipy.spatial import HalfspaceIntersection, ConvexHull\n",
    "import matplotlib.pyplot as plt\n",
    "from matplotlib.patches import Polygon\n",
    "import numpy as np\n",
    "\n",
    "\n",
    "# create a function that will render convex polygon from given inequalities\n",
    "    ## this function will receive inequalities, point contained in polygon and bounds\n",
    "def render_inequations(halfspaces, feasible_point, xlim, ylim):\n",
    "    hs = HalfspaceIntersection(np.array(halfspaces), feasible_point)\n",
    "    fig = plt.figure()\n",
    "    ax = fig.add_subplot(111, aspect='equal')\n",
    "    ax.set_xlim(xlim)\n",
    "    ax.set_ylim(ylim)\n",
    "\n",
    "    x = np.linspace(*xlim, 100)\n",
    "\n",
    "    for h in halfspaces:\n",
    "        if h[1]== 0:\n",
    "            ax.axvline(-h[2]/h[0], color=\"#2c3e50\")\n",
    "        else:\n",
    "            ax.plot(x, (-h[2]-h[0]*x)/h[1], color=\"#2c3e50\")\n",
    "    x, y = zip(*hs.intersections)\n",
    "    points = list(zip(x, y))\n",
    "    convex_hull = ConvexHull(points)\n",
    "    polygon = Polygon([points[v] for v in convex_hull.vertices], color=\"#34495e\")\n",
    "    ax.add_patch(polygon)\n",
    "    ax.plot(x, y, 'o', color=\"#e67e22\")"
   ]
  },
  {
   "attachments": {},
   "cell_type": "markdown",
   "metadata": {},
   "source": [
    "We will improve this function in the next parts since now we can use it only after we draw inequalities manually on a piece of paper. As soon as we learn how to solve linear equations, we will be able to render polygon without providing a feasible point."
   ]
  },
  {
   "cell_type": "code",
   "execution_count": 15,
   "metadata": {},
   "outputs": [
    {
     "data": {
      "image/png": "[encoded data removed]",
      "text/plain": [
       "<Figure size 432x288 with 1 Axes>"
      ]
     },
     "metadata": {
      "needs_background": "light"
     },
     "output_type": "display_data"
    }
   ],
   "source": [
    "halfspaces = [\n",
    "    [-1, 0., 0.],    # x₁ ≥ 0\n",
    "    [0., -1., 0.],   # x₂ ≥ 0\n",
    "    [-1., 4., -13.], # 4x₂ - x₁ ≤ 13\n",
    "    [2., 1., -10.]   # x₂ + 2x₁ ≤ 10\n",
    "]\n",
    "feasible_point = np.array([0.5, 0.5])\n",
    "xlim = (-1, 6)\n",
    "render_inequations(halfspaces, feasible_point, xlim, xlim)"
   ]
  },
  {
   "attachments": {},
   "cell_type": "markdown",
   "metadata": {},
   "source": [
    "            Transform to equational form\n",
    "\n",
    "In order to convert the inequality 4x₂ -x₁ ≤ 13 we introduce a new variable x₃, together with the nonnegativity constraint x₃ ≥ 0, and we replace the considered inequality by the equation -x₁ + 4x₂ + x₃ = 13. The additional variable(slack variable) x₃, which won’t appear anywhere else in the transformed linear program, represents the difference between the right-hand side and the left-hand side of the inequality.\n",
    "\n",
    "We need to do the same with x₂ + 2x₁≤ 10. We introduce a new slack variable x₃, together with the nonnegativity constraint x₄ ≥ 0. As a result, we have this equation 2x₁ + x₂ + x₄ = 10.\n",
    "\n",
    "The resulting equational form of our linear program looks this way:\n",
    "Maximize x₁ + x₂ subject to\n",
    "\n",
    "  -x₁ + 4x₂ + x₃ = 13\n",
    "  2x₁ +x₂ + x₄ = 10\n",
    "  x₁ ≥ 0, x₂ ≥ 0, x₃ ≥ 0, x₄ ≥ 0\n",
    "\n",
    "\n",
    "Geometry\n",
    "As is derived in linear algebra, the set of all solutions of the system Ax = b is an affine subspace F of the space Rⁿ. Hence the set of all feasible solutions of the linear program is the intersection of F with the nonnegative orthant, which is the set of all points in Rⁿ with all coordinates nonnegative."
   ]
  },
  {
   "cell_type": "code",
   "execution_count": 1,
   "metadata": {},
   "outputs": [
    {
     "name": "stdout",
     "output_type": "stream",
     "text": [
      "x1 = 3.0\n",
      "x2 = 4.0\n"
     ]
    }
   ],
   "source": [
    "import numpy as np\n",
    "a = [\n",
    "    [-1, 4, 1, 0],\n",
    "    [2, 1, 0, 1],\n",
    "    [0, 0, 1, 0],\n",
    "    [0, 0, 0, 1]\n",
    "]\n",
    "b = [13, 10, 0, 0]\n",
    "x1, x2, x3, x4 = np.linalg.solve(a, b)\n",
    "print('x1 =', x1)\n",
    "print('x2 =', x2)"
   ]
  },
  {
   "cell_type": "code",
   "execution_count": 26,
   "metadata": {},
   "outputs": [
    {
     "name": "stdout",
     "output_type": "stream",
     "text": [
      "solution:  [4.0, 4.0, 2.0, 0, 0, 0]\n"
     ]
    }
   ],
   "source": [
    "c = [1, 1, 0, 0, 0]\n",
    "A = [\n",
    "    [-1, 1, 1, 0, 0],\n",
    "    [ 1, 0, 0, 1, 0],\n",
    "    [ 0, 1, 0, 0, 1]\n",
    "]\n",
    "b = [2, 4, 4]\n",
    "\n",
    "def to_tableau(c, A, b):\n",
    "    xb = [eq + [x] for eq, x in zip(A, b)]\n",
    "    z = c + [0]\n",
    "    return xb + [z]\n",
    "\n",
    "\n",
    "def can_be_improved(tableau):\n",
    "    z = tableau[-1]\n",
    "    return any(x > 0 for x in z[:-1])\n",
    "import math\n",
    "\n",
    "def get_pivot_position(tableau):\n",
    "    z = tableau[-1]\n",
    "    column = next(i for i, x in enumerate(z[:-1]) if x > 0)\n",
    "    \n",
    "    restrictions = []\n",
    "    for eq in tableau[:-1]:\n",
    "        el = eq[column]\n",
    "        restrictions.append(math.inf if el <= 0 else eq[-1] / el)\n",
    "\n",
    "    row = restrictions.index(min(restrictions))\n",
    "    return row, column\n",
    "\n",
    "def pivot_step(tableau, pivot_position):\n",
    "    new_tableau = [[] for eq in tableau]\n",
    "    \n",
    "    i, j = pivot_position\n",
    "    pivot_value = tableau[i][j]\n",
    "    new_tableau[i] = np.array(tableau[i]) / pivot_value\n",
    "    \n",
    "    for eq_i, eq in enumerate(tableau):\n",
    "        if eq_i != i:\n",
    "            multiplier = np.array(new_tableau[i]) * tableau[eq_i][j]\n",
    "            new_tableau[eq_i] = np.array(tableau[eq_i]) - multiplier\n",
    "   \n",
    "    return new_tableau\n",
    "def is_basic(column):\n",
    "    return sum(column) == 1 and len([c for c in column if c == 0]) == len(column) - 1\n",
    "\n",
    "def get_solution(tableau):\n",
    "    columns = np.array(tableau).T\n",
    "    solutions = []\n",
    "    for column in columns:\n",
    "        solution = 0\n",
    "        if is_basic(column):\n",
    "            one_index = column.tolist().index(1)\n",
    "            solution = columns[-1][one_index]\n",
    "        solutions.append(solution)\n",
    "        \n",
    "    return solutions\n",
    "def simplex(c, A, b):\n",
    "    tableau = to_tableau(c, A, b)\n",
    "\n",
    "    while can_be_improved(tableau):\n",
    "        pivot_position = get_pivot_position(tableau)\n",
    "        tableau = pivot_step(tableau, pivot_position)\n",
    "\n",
    "    return get_solution(tableau)\n",
    "solution = simplex(c, A, b)\n",
    "print('solution: ', solution)"
   ]
  }
 ],
 "metadata": {
  "kernelspec": {
   "display_name": "base",
   "language": "python",
   "name": "python3"
  },
  "language_info": {
   "codemirror_mode": {
    "name": "ipython",
    "version": 3
   },
   "file_extension": ".py",
   "mimetype": "text/x-python",
   "name": "python",
   "nbconvert_exporter": "python",
   "pygments_lexer": "ipython3",
   "version": "3.9.12"
  },
  "orig_nbformat": 4
 },
 "nbformat": 4,
 "nbformat_minor": 2
}

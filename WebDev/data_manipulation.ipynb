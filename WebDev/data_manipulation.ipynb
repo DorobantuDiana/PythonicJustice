{
 "cells": [
  {
   "cell_type": "code",
   "execution_count": 1,
   "metadata": {},
   "outputs": [],
   "source": [
    "import numpy as np\n",
    "import pandas as pd"
   ]
  },
  {
   "cell_type": "code",
   "execution_count": 2,
   "metadata": {},
   "outputs": [],
   "source": [
    "df = pd.DataFrame() # creata data frame"
   ]
  },
  {
   "cell_type": "code",
   "execution_count": 9,
   "metadata": {},
   "outputs": [
    {
     "name": "stdout",
     "output_type": "stream",
     "text": [
      "   Courses    Fee Duration  Discount\n",
      "0    Spark  20000   30days      1000\n",
      "1   Hadoop  25000   40days      2500\n",
      "2   pandas  30000   35days      1500\n",
      "3     Java  22000   60days      1200\n",
      "4  Pyspark  26000   50days      3000\n"
     ]
    }
   ],
   "source": [
    "technologies = ({\n",
    "    'Courses':[\"Spark\",\"Hadoop\",\"pandas\",\"Java\",\"Pyspark\"],\n",
    "    'Fee' :[20000,25000,30000,22000,26000],\n",
    "    'Duration':['30days','40days','35days','60days','50days'],\n",
    "    'Discount':[1000,2500,1500,1200,3000]\n",
    "               })\n",
    "df = pd.DataFrame(technologies)\n",
    "print(df)"
   ]
  },
  {
   "cell_type": "code",
   "execution_count": 16,
   "metadata": {},
   "outputs": [
    {
     "name": "stdout",
     "output_type": "stream",
     "text": [
      "   Courses    Fee Duration  Discount\n",
      "0    Spark  20000   30days      1000\n",
      "1   Hadoop  25000   40days      2500\n",
      "2   pandas  30000   35days      1500\n",
      "3     Java  22000   60days      1200\n",
      "4  Pyspark  26000   50days      3000\n",
      "5    Spark  20000   30days      1000\n"
     ]
    },
    {
     "name": "stderr",
     "output_type": "stream",
     "text": [
      "/var/folders/8z/k522vptd4txb2npqyzdvlylh0000gn/T/ipykernel_49788/2681012082.py:7: FutureWarning: The frame.append method is deprecated and will be removed from pandas in a future version. Use pandas.concat instead.\n",
      "  df2 = df.append(new_rows, ignore_index=True)\n"
     ]
    }
   ],
   "source": [
    "new_rows = {\n",
    "    'Courses': 'Spark',\n",
    "    'Fee':'20000',\n",
    "    'Duration':'30days',\n",
    "    'Discount': 1000\n",
    "}\n",
    "df2 = df.append(new_rows, ignore_index=True)\n",
    "print(df2)"
   ]
  },
  {
   "cell_type": "code",
   "execution_count": null,
   "metadata": {},
   "outputs": [],
   "source": []
  },
  {
   "cell_type": "code",
   "execution_count": null,
   "metadata": {},
   "outputs": [],
   "source": []
  },
  {
   "cell_type": "code",
   "execution_count": null,
   "metadata": {},
   "outputs": [],
   "source": []
  }
 ],
 "metadata": {
  "kernelspec": {
   "display_name": "base",
   "language": "python",
   "name": "python3"
  },
  "language_info": {
   "codemirror_mode": {
    "name": "ipython",
    "version": 3
   },
   "file_extension": ".py",
   "mimetype": "text/x-python",
   "name": "python",
   "nbconvert_exporter": "python",
   "pygments_lexer": "ipython3",
   "version": "3.9.12"
  },
  "orig_nbformat": 4
 },
 "nbformat": 4,
 "nbformat_minor": 2
}

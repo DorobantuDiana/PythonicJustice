{
 "cells": [
  {
   "cell_type": "code",
   "execution_count": 1,
   "metadata": {},
   "outputs": [],
   "source": [
    "import pandas as pd\n",
    "\n",
    "tables = pd.read_html('https://en.wikipedia.org/wiki/Polity_data_series')"
   ]
  },
  {
   "cell_type": "code",
   "execution_count": 2,
   "metadata": {},
   "outputs": [
    {
     "data": {
      "text/plain": [
       "2"
      ]
     },
     "execution_count": 2,
     "metadata": {},
     "output_type": "execute_result"
    }
   ],
   "source": [
    "len(tables)"
   ]
  },
  {
   "cell_type": "code",
   "execution_count": 3,
   "metadata": {},
   "outputs": [
    {
     "data": {
      "text/html": [
       "<div>\n",
       "<style scoped>\n",
       "    .dataframe tbody tr th:only-of-type {\n",
       "        vertical-align: middle;\n",
       "    }\n",
       "\n",
       "    .dataframe tbody tr th {\n",
       "        vertical-align: top;\n",
       "    }\n",
       "\n",
       "    .dataframe thead th {\n",
       "        text-align: right;\n",
       "    }\n",
       "</style>\n",
       "<table border=\"1\" class=\"dataframe\">\n",
       "  <thead>\n",
       "    <tr style=\"text-align: right;\">\n",
       "      <th></th>\n",
       "      <th>Country</th>\n",
       "      <th>Democracy score</th>\n",
       "      <th>Autocracy score</th>\n",
       "      <th>Polity IV score[11][12]</th>\n",
       "      <th>Polity IV regime type</th>\n",
       "    </tr>\n",
       "  </thead>\n",
       "  <tbody>\n",
       "    <tr>\n",
       "      <th>0</th>\n",
       "      <td>Afghanistan</td>\n",
       "      <td>1</td>\n",
       "      <td>2</td>\n",
       "      <td>-1</td>\n",
       "      <td>Closed Anocracy</td>\n",
       "    </tr>\n",
       "    <tr>\n",
       "      <th>1</th>\n",
       "      <td>Albania</td>\n",
       "      <td>9</td>\n",
       "      <td>0</td>\n",
       "      <td>9</td>\n",
       "      <td>Democracy</td>\n",
       "    </tr>\n",
       "    <tr>\n",
       "      <th>2</th>\n",
       "      <td>Algeria</td>\n",
       "      <td>3</td>\n",
       "      <td>1</td>\n",
       "      <td>2</td>\n",
       "      <td>Open Anocracy</td>\n",
       "    </tr>\n",
       "    <tr>\n",
       "      <th>3</th>\n",
       "      <td>Angola</td>\n",
       "      <td>2</td>\n",
       "      <td>4</td>\n",
       "      <td>-2</td>\n",
       "      <td>Closed Anocracy</td>\n",
       "    </tr>\n",
       "    <tr>\n",
       "      <th>4</th>\n",
       "      <td>Argentina</td>\n",
       "      <td>9</td>\n",
       "      <td>0</td>\n",
       "      <td>9</td>\n",
       "      <td>Democracy</td>\n",
       "    </tr>\n",
       "    <tr>\n",
       "      <th>...</th>\n",
       "      <td>...</td>\n",
       "      <td>...</td>\n",
       "      <td>...</td>\n",
       "      <td>...</td>\n",
       "      <td>...</td>\n",
       "    </tr>\n",
       "    <tr>\n",
       "      <th>158</th>\n",
       "      <td>Uzbekistan</td>\n",
       "      <td>0</td>\n",
       "      <td>9</td>\n",
       "      <td>-9</td>\n",
       "      <td>Autocracy</td>\n",
       "    </tr>\n",
       "    <tr>\n",
       "      <th>159</th>\n",
       "      <td>Venezuela</td>\n",
       "      <td>1</td>\n",
       "      <td>4</td>\n",
       "      <td>-3</td>\n",
       "      <td>Closed Anocracy</td>\n",
       "    </tr>\n",
       "    <tr>\n",
       "      <th>160</th>\n",
       "      <td>Vietnam</td>\n",
       "      <td>0</td>\n",
       "      <td>7</td>\n",
       "      <td>-7</td>\n",
       "      <td>Autocracy</td>\n",
       "    </tr>\n",
       "    <tr>\n",
       "      <th>161</th>\n",
       "      <td>Zambia</td>\n",
       "      <td>6</td>\n",
       "      <td>0</td>\n",
       "      <td>6</td>\n",
       "      <td>Democracy</td>\n",
       "    </tr>\n",
       "    <tr>\n",
       "      <th>162</th>\n",
       "      <td>Zimbabwe</td>\n",
       "      <td>5</td>\n",
       "      <td>1</td>\n",
       "      <td>4</td>\n",
       "      <td>Open Anocracy</td>\n",
       "    </tr>\n",
       "  </tbody>\n",
       "</table>\n",
       "<p>163 rows × 5 columns</p>\n",
       "</div>"
      ],
      "text/plain": [
       "         Country  Democracy score  Autocracy score  Polity IV score[11][12]  \\\n",
       "0    Afghanistan                1                2                       -1   \n",
       "1        Albania                9                0                        9   \n",
       "2        Algeria                3                1                        2   \n",
       "3         Angola                2                4                       -2   \n",
       "4      Argentina                9                0                        9   \n",
       "..           ...              ...              ...                      ...   \n",
       "158   Uzbekistan                0                9                       -9   \n",
       "159    Venezuela                1                4                       -3   \n",
       "160      Vietnam                0                7                       -7   \n",
       "161       Zambia                6                0                        6   \n",
       "162     Zimbabwe                5                1                        4   \n",
       "\n",
       "    Polity IV regime type  \n",
       "0         Closed Anocracy  \n",
       "1               Democracy  \n",
       "2           Open Anocracy  \n",
       "3         Closed Anocracy  \n",
       "4               Democracy  \n",
       "..                    ...  \n",
       "158             Autocracy  \n",
       "159       Closed Anocracy  \n",
       "160             Autocracy  \n",
       "161             Democracy  \n",
       "162         Open Anocracy  \n",
       "\n",
       "[163 rows x 5 columns]"
      ]
     },
     "execution_count": 3,
     "metadata": {},
     "output_type": "execute_result"
    }
   ],
   "source": [
    "tables[1]"
   ]
  },
  {
   "cell_type": "code",
   "execution_count": 4,
   "metadata": {},
   "outputs": [
    {
     "name": "stdout",
     "output_type": "stream",
     "text": [
      "<class 'pandas.core.frame.DataFrame'>\n",
      "RangeIndex: 163 entries, 0 to 162\n",
      "Data columns (total 5 columns):\n",
      " #   Column                   Non-Null Count  Dtype \n",
      "---  ------                   --------------  ----- \n",
      " 0   Country                  163 non-null    object\n",
      " 1   Democracy score          163 non-null    int64 \n",
      " 2   Autocracy score          163 non-null    int64 \n",
      " 3   Polity IV score[11][12]  163 non-null    int64 \n",
      " 4   Polity IV regime type    163 non-null    object\n",
      "dtypes: int64(3), object(2)\n",
      "memory usage: 6.5+ KB\n"
     ]
    }
   ],
   "source": [
    "polity = tables[1]\n",
    "polity.info()"
   ]
  },
  {
   "cell_type": "code",
   "execution_count": 5,
   "metadata": {},
   "outputs": [
    {
     "name": "stdout",
     "output_type": "stream",
     "text": [
      "         Country           Regime\n",
      "0    Afghanistan  Closed Anocracy\n",
      "1        Albania        Democracy\n",
      "2        Algeria    Open Anocracy\n",
      "3         Angola  Closed Anocracy\n",
      "4      Argentina        Democracy\n",
      "..           ...              ...\n",
      "158   Uzbekistan        Autocracy\n",
      "159    Venezuela  Closed Anocracy\n",
      "160      Vietnam        Autocracy\n",
      "161       Zambia        Democracy\n",
      "162     Zimbabwe    Open Anocracy\n",
      "\n",
      "[163 rows x 2 columns]\n"
     ]
    }
   ],
   "source": [
    "df = polity[['Country','Polity IV regime type']]\n",
    "df = df.rename(columns ={'Polity IV regime type': 'Regime'})\n",
    "print(df)"
   ]
  },
  {
   "cell_type": "code",
   "execution_count": 6,
   "metadata": {},
   "outputs": [],
   "source": [
    "df.to_csv('political_regimes.csv', index=False)"
   ]
  }
 ],
 "metadata": {
  "kernelspec": {
   "display_name": "Python 3",
   "language": "python",
   "name": "python3"
  },
  "language_info": {
   "codemirror_mode": {
    "name": "ipython",
    "version": 3
   },
   "file_extension": ".py",
   "mimetype": "text/x-python",
   "name": "python",
   "nbconvert_exporter": "python",
   "pygments_lexer": "ipython3",
   "version": "3.12.0"
  }
 },
 "nbformat": 4,
 "nbformat_minor": 2
}
